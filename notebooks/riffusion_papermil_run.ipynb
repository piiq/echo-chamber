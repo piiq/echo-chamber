{
 "cells": [
  {
   "cell_type": "code",
   "execution_count": 1,
   "metadata": {},
   "outputs": [],
   "source": [
    "import os\n",
    "import shutil\n",
    "import papermill as pm\n",
    "from datetime import datetime\n",
    "from uuid import uuid4"
   ]
  },
  {
   "cell_type": "code",
   "execution_count": 2,
   "metadata": {},
   "outputs": [],
   "source": [
    "EXPERIMENT_DATE = datetime.today().strftime(\"%Y-%m-%d\")\n",
    "OUTPUT_FOLDER = os.path.join(os.getcwd(), \"..\", \"..\", \"experiments\", EXPERIMENT_DATE)\n",
    "os.makedirs(OUTPUT_FOLDER, exist_ok=True)"
   ]
  },
  {
   "cell_type": "code",
   "execution_count": 26,
   "metadata": {},
   "outputs": [],
   "source": [
    "PROMPTS = [\n",
    "    \"violin solo\",\n",
    "]\n"
   ]
  },
  {
   "cell_type": "code",
   "execution_count": 27,
   "metadata": {},
   "outputs": [],
   "source": [
    "NEGATIVE_PROMPT = \"\""
   ]
  },
  {
   "cell_type": "code",
   "execution_count": 28,
   "metadata": {},
   "outputs": [],
   "source": [
    "FILE_PATH = \"sample_12sec.wav\"\n",
    "SAMPLING_RATE = 44100\n"
   ]
  },
  {
   "cell_type": "code",
   "execution_count": 31,
   "metadata": {},
   "outputs": [],
   "source": [
    "DENOISING_STRENGTH = 1.0\n",
    "GUIDANCE_SCALE = 9.0\n",
    "NUM_INFERENCE_STEPS = 50\n",
    "SEED = 42\n"
   ]
  },
  {
   "cell_type": "code",
   "execution_count": null,
   "metadata": {},
   "outputs": [],
   "source": [
    "for prompt in PROMPTS:\n",
    "    EXPERIMENT_ID = str(uuid4())\n",
    "\n",
    "    notebook_name = f\"{EXPERIMENT_ID}.ipynb\"  # Assuming EXPERIMENT_ID is a string\n",
    "    source_path = notebook_name  # If the notebook is in the current directory\n",
    "    destination_path = os.path.join(OUTPUT_FOLDER, notebook_name)\n",
    "\n",
    "\n",
    "    res = pm.execute_notebook(\n",
    "        \"riffusion_inference_pipeline.ipynb\",\n",
    "        f\"{EXPERIMENT_ID}.ipynb\",\n",
    "        parameters=dict(\n",
    "            EXPERIMENT_ID=EXPERIMENT_ID,\n",
    "            EXPERIMENT_DATE=EXPERIMENT_DATE,\n",
    "            FILE_PATH=FILE_PATH,\n",
    "            OUTPUT_FOLDER=OUTPUT_FOLDER,\n",
    "            SAMPLING_RATE=SAMPLING_RATE,\n",
    "            DENOISING_STRENGTH=DENOISING_STRENGTH,\n",
    "            GUIDANCE_SCALE=GUIDANCE_SCALE,\n",
    "            NUM_INFERENCE_STEPS=NUM_INFERENCE_STEPS,\n",
    "            SEED=SEED,\n",
    "            PROMPT=prompt,\n",
    "            NEGATIVE_PROMPT=NEGATIVE_PROMPT,\n",
    "        ),\n",
    "    )\n",
    "    # move the notebook to the output folder\n",
    "    shutil.move(source_path, destination_path)\n"
   ]
  },
  {
   "cell_type": "code",
   "execution_count": null,
   "metadata": {},
   "outputs": [],
   "source": []
  },
  {
   "cell_type": "code",
   "execution_count": null,
   "metadata": {},
   "outputs": [],
   "source": []
  }
 ],
 "metadata": {
  "kernelspec": {
   "display_name": "venv",
   "language": "python",
   "name": "python3"
  },
  "language_info": {
   "codemirror_mode": {
    "name": "ipython",
    "version": 3
   },
   "file_extension": ".py",
   "mimetype": "text/x-python",
   "name": "python",
   "nbconvert_exporter": "python",
   "pygments_lexer": "ipython3",
   "version": "3.11.9"
  },
  "orig_nbformat": 4,
  "vscode": {
   "interpreter": {
    "hash": "e47a413293bc6fe038b650abb2105665fccf8a01e5d9bbe3f5d2d04c50f645ff"
   }
  }
 },
 "nbformat": 4,
 "nbformat_minor": 2
}
