{
 "cells": [
  {
   "cell_type": "code",
   "execution_count": 4,
   "metadata": {},
   "outputs": [],
   "source": [
    "import pydub\n",
    "import torch\n",
    "from plotly import graph_objects as go\n",
    "\n",
    "from code.riffusion.spectrogram_params import SpectrogramParams\n",
    "from code.riffusion.spectrogram_image_converter import SpectrogramImageConverter\n",
    "\n",
    "\n",
    "if torch.backends.mps.is_available():\n",
    "    DEVICE = \"mps\"\n",
    "elif torch.backends.cuda.is_available():\n",
    "    DEVICE = \"cuda\"\n",
    "else:\n",
    "    DEVICE = \"cpu\"\n",
    "DTYPE = torch.float32\n"
   ]
  },
  {
   "cell_type": "code",
   "execution_count": null,
   "metadata": {
    "tags": [
     "parameters"
    ]
   },
   "outputs": [],
   "source": [
    "# Parameters\n",
    "FILE_PATH = \"_loop.wav\""
   ]
  },
  {
   "cell_type": "code",
   "execution_count": null,
   "metadata": {},
   "outputs": [],
   "source": [
    "params = SpectrogramParams()\n",
    "image_converter = SpectrogramImageConverter(params=params, device=DEVICE)\n",
    "\n",
    "audio_segment = pydub.AudioSegment.from_file(FILE_PATH)\n",
    "audio_segment = audio_segment.set_frame_rate(44100)\n",
    "\n",
    "spec_image = image_converter.spectrogram_image_from_audio(audio_segment)\n"
   ]
  },
  {
   "cell_type": "code",
   "execution_count": null,
   "metadata": {},
   "outputs": [],
   "source": [
    "spec_image"
   ]
  },
  {
   "cell_type": "code",
   "execution_count": null,
   "metadata": {},
   "outputs": [],
   "source": [
    "audio_segment"
   ]
  },
  {
   "cell_type": "code",
   "execution_count": null,
   "metadata": {},
   "outputs": [],
   "source": []
  }
 ],
 "metadata": {
  "kernelspec": {
   "display_name": "venv",
   "language": "python",
   "name": "python3"
  },
  "language_info": {
   "codemirror_mode": {
    "name": "ipython",
    "version": 3
   },
   "file_extension": ".py",
   "mimetype": "text/x-python",
   "name": "python",
   "nbconvert_exporter": "python",
   "pygments_lexer": "ipython3",
   "version": "3.11.9"
  },
  "orig_nbformat": 4,
  "vscode": {
   "interpreter": {
    "hash": "e47a413293bc6fe038b650abb2105665fccf8a01e5d9bbe3f5d2d04c50f645ff"
   }
  }
 },
 "nbformat": 4,
 "nbformat_minor": 2
}
